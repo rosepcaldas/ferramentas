{
  "nbformat": 4,
  "nbformat_minor": 0,
  "metadata": {
    "colab": {
      "provenance": [],
      "mount_file_id": "1D9g8ZK4GF7M0p0ntIdFW3z_T3HGZO1d9",
      "authorship_tag": "ABX9TyNrqbKh9Ka/76ZL8BT6At75",
      "include_colab_link": true
    },
    "kernelspec": {
      "name": "python3",
      "display_name": "Python 3"
    },
    "language_info": {
      "name": "python"
    }
  },
  "cells": [
    {
      "cell_type": "markdown",
      "metadata": {
        "id": "view-in-github",
        "colab_type": "text"
      },
      "source": [
        "<a href=\"https://colab.research.google.com/github/rosepcaldas/ferramentas/blob/main/ConsultaCNPJ.ipynb\" target=\"_parent\"><img src=\"https://colab.research.google.com/assets/colab-badge.svg\" alt=\"Open In Colab\"/></a>"
      ]
    },
    {
      "cell_type": "markdown",
      "source": [
        "# **Consulta informações de um CNPJ utilizando API da Receita Federal**"
      ],
      "metadata": {
        "id": "y0uEeC_RSC3E"
      }
    },
    {
      "cell_type": "code",
      "source": [
        "pip install requests -q"
      ],
      "metadata": {
        "id": "oKNd63HLWsO3"
      },
      "execution_count": 1,
      "outputs": []
    },
    {
      "cell_type": "code",
      "execution_count": 2,
      "metadata": {
        "id": "h8SnH-ugR-xW"
      },
      "outputs": [],
      "source": [
        "import requests\n",
        "import json"
      ]
    },
    {
      "cell_type": "markdown",
      "source": [
        "link da API: https://www.receitaws.com.br/api\n",
        "\n",
        "Link da API no Sintegra: https://www.sintegraws.com.br/api/documentacao-api-receita-federal.php\n",
        "\n",
        "https://developers.receitaws.com.br/#/operations/queryCNPJFree"
      ],
      "metadata": {
        "id": "MtHNwvQJS1V7"
      }
    },
    {
      "cell_type": "code",
      "source": [
        "def consulta_cnpj(cnpj):\n",
        "  url = f\"https://receitaws.com.br/v1/cnpj/{cnpj}\"\n",
        "  querystring = {\"token\":\"XXXXXXXX-XXXX-XXXX-XXXX-XXXXXXXXXXXX\",\"cnpj\":\"06990590000123\",\"plugin\":\"RF\"}\n",
        "  response = requests.request(\"GET\",url, params=querystring)\n",
        "\n",
        "  resp = json.loads(response.text)\n",
        "\n",
        "  return resp['cnpj'], resp['nome'], resp['fantasia'], resp['tipo'], resp['porte'], resp['municipio'], resp['uf']"
      ],
      "metadata": {
        "id": "BGurCpe3TSVW"
      },
      "execution_count": 3,
      "outputs": []
    },
    {
      "cell_type": "code",
      "source": [
        "# Teste da consulta à API da receita\n",
        "CNPJ = input(\"Entre com o cnpj: \")\n",
        "CNPJ_formatado = ''.join(char for char in CNPJ if char.isalnum())  \n",
        "  \n",
        "try:\n",
        "  dados_cnpj = consulta_cnpj(CNPJ_formatado)\n",
        "  print(dados_cnpj)  \n",
        "except ValueError:\n",
        "  print(\"Cnpj não localizado\")"
      ],
      "metadata": {
        "colab": {
          "base_uri": "https://localhost:8080/"
        },
        "id": "JkPfIwx9WSEk",
        "outputId": "09f1a41b-fe63-4fbd-92e4-1a1073347b27"
      },
      "execution_count": 111,
      "outputs": [
        {
          "output_type": "stream",
          "name": "stdout",
          "text": [
            "Entre com o cnpj: 37.543.974/0001-21\n",
            "('37.543.974/0001-21', 'RHELLO SOFTWARES LTDA', 'RHELLO SOLUCOES', 'MATRIZ', 'MICRO EMPRESA', 'JOINVILLE', 'SC')\n"
          ]
        }
      ]
    }
  ]
}